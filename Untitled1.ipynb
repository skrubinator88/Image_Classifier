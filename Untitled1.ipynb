{
 "cells": [
  {
   "cell_type": "code",
   "execution_count": 4,
   "metadata": {},
   "outputs": [
    {
     "name": "stderr",
     "output_type": "stream",
     "text": [
      "Using TensorFlow backend.\n"
     ]
    }
   ],
   "source": [
    "import pyspark # only run after findspark.init()\n",
    "from pyspark.sql import SparkSession\n",
    "from pyspark.ml.image import ImageSchema\n",
    "from pyspark.sql.functions import lit\n",
    "from functools import reduce\n",
    "\n",
    "spark = (SparkSession\n",
    "            .builder\n",
    "            .config('spark.jars.packages', 'databricks:spark-deep-learning:1.5.0-spark2.4-s_2.11')\n",
    "            .getOrCreate()\n",
    ")\n",
    "#Will need a few minutes to download packages from databricks\n",
    "import sparkdl\n",
    "\n",
    "\n",
    "# loaded image\n",
    "panda = ImageSchema.readImages(\"panda\").withColumn(\"label\", lit(0))\n",
    "dogs = ImageSchema.readImages(\"dogs\").withColumn(\"label\", lit(1))\n",
    "cats = ImageSchema.readImages(\"cats\").withColumn(\"label\", lit(2))\n",
    "\n",
    "dataframes = [panda, dogs, cats]\n",
    "\n",
    "# merge data frame\n",
    "df = reduce(lambda first, second: first.union(second), dataframes)\n",
    "# repartition dataframe \n",
    "df = df.repartition(200)\n",
    "# split the data-frame\n",
    "train, test = df.randomSplit([0.8, 0.2], 42)\n",
    "\n"
   ]
  },
  {
   "cell_type": "code",
   "execution_count": 5,
   "metadata": {},
   "outputs": [],
   "source": [
    "from pyspark.ml.evaluation import MulticlassClassificationEvaluator\n",
    "from pyspark.ml.classification import LogisticRegression\n",
    "from pyspark.ml import Pipeline\n",
    "from sparkdl import DeepImageFeaturizer\n",
    "# model: InceptionV3\n",
    "# extracting feature from images\n",
    "featurizer = DeepImageFeaturizer(inputCol=\"image\",\n",
    "                                 outputCol=\"features\",\n",
    "                                 modelName=\"InceptionV3\")\n",
    "# used as a multi class classifier\n",
    "lr = LogisticRegression(maxIter=5, regParam=0.03, \n",
    "                        elasticNetParam=0.5, labelCol=\"label\")\n",
    "# define a pipeline model\n",
    "sparkdn = Pipeline(stages=[featurizer, lr])\n",
    "spark_model = sparkdn.fit(train) # start fitting or training"
   ]
  },
  {
   "cell_type": "code",
   "execution_count": 7,
   "metadata": {},
   "outputs": [
    {
     "name": "stdout",
     "output_type": "stream",
     "text": [
      "('F1-Score ', 0.9841516956202996)\n",
      "('Precision ', 0.9848828420256992)\n",
      "('Recall ', 0.9841269841269842)\n",
      "('Accuracy ', 0.9841269841269841)\n"
     ]
    }
   ],
   "source": [
    "from pyspark.ml.evaluation import MulticlassClassificationEvaluator\n",
    "# evaluate the model with test set\n",
    "evaluator = MulticlassClassificationEvaluator() \n",
    "tx_test = spark_model.transform(test)\n",
    "print('F1-Score ', evaluator.evaluate(tx_test, \n",
    "                   {evaluator.metricName: 'f1'}))\n",
    "print('Precision ', evaluator.evaluate(tx_test,\n",
    "                   {evaluator.metricName: 'weightedPrecision'}))\n",
    "print('Recall ', evaluator.evaluate(tx_test,   \n",
    "                   {evaluator.metricName: 'weightedRecall'}))\n",
    "print('Accuracy ', evaluator.evaluate(tx_test, \n",
    "                   {evaluator.metricName: 'accuracy'}))"
   ]
  },
  {
   "cell_type": "code",
   "execution_count": 4,
   "metadata": {},
   "outputs": [],
   "source": [
    "import matplotlib.pyplot as plt\n",
    "import numpy as np\n",
    "import itertools\n",
    "def plot_confusion_matrix(cm, classes,\n",
    "                          normalize=False,\n",
    "                          title='Confusion matrix',\n",
    "                          cmap=plt.cm.GnBu):\n",
    "    plt.imshow(cm, interpolation='nearest', cmap=cmap)\n",
    "    plt.title(title)\n",
    "    tick_marks = np.arange(len(classes))\n",
    "    plt.xticks(tick_marks, classes, rotation=45)\n",
    "    plt.yticks(tick_marks, classes)\n",
    "    fmt = '.2f' if normalize else 'd'\n",
    "    thresh = cm.max() / 2.\n",
    "    for i, j in itertools.product(range(cm.shape[0]), \n",
    "                                  range(cm.shape[1])):\n",
    "        plt.text(j, i, format(cm[i, j], fmt),\n",
    "                 horizontalalignment=\"center\",\n",
    "                 color=\"white\" if cm[i, j] > thresh else \"black\")\n",
    "    plt.tight_layout()\n",
    "    plt.ylabel('True label')\n",
    "    plt.xlabel('Predicted label')"
   ]
  },
  {
   "cell_type": "code",
   "execution_count": 11,
   "metadata": {},
   "outputs": [],
   "source": [
    "from sklearn.metrics import confusion_matrix\n",
    "y_true = tx_test.select(\"label\")\n",
    "y_true = y_true.toPandas()\n",
    "y_pred = tx_test.select(\"prediction\")\n",
    "y_pred = y_pred.toPandas()\n",
    "cnf_matrix = confusion_matrix(y_true, y_pred,labels=range(3))"
   ]
  },
  {
   "cell_type": "code",
   "execution_count": 12,
   "metadata": {},
   "outputs": [
    {
     "data": {
      "image/png": "[encoded data removed]",
      "text/plain": [
       "<Figure size 504x504 with 1 Axes>"
      ]
     },
     "metadata": {},
     "output_type": "display_data"
    }
   ],
   "source": [
    "\n",
    "import seaborn as sns\n",
    "sns.set_style(\"darkgrid\")\n",
    "plt.figure(figsize=(7,7))\n",
    "plt.grid(False)\n",
    "# call pre defined function\n",
    "plot_confusion_matrix(cnf_matrix, classes=range(3))"
   ]
  },
  {
   "cell_type": "code",
   "execution_count": 13,
   "metadata": {},
   "outputs": [
    {
     "name": "stdout",
     "output_type": "stream",
     "text": [
      "              precision    recall  f1-score   support\n",
      "\n",
      "     Class 0       1.00      0.96      0.98        24\n",
      "     Class 1       1.00      1.00      1.00        19\n",
      "     Class 2       0.95      1.00      0.98        20\n",
      "\n",
      "   micro avg       0.98      0.98      0.98        63\n",
      "   macro avg       0.98      0.99      0.98        63\n",
      "weighted avg       0.98      0.98      0.98        63\n",
      "\n"
     ]
    }
   ],
   "source": [
    "from sklearn.metrics import classification_report\n",
    "target_names = [\"Class {}\".format(i) for i in range(3)]\n",
    "print(classification_report(y_true, y_pred, \n",
    "                            target_names = target_names))"
   ]
  },
  {
   "cell_type": "code",
   "execution_count": 7,
   "metadata": {},
   "outputs": [
    {
     "name": "stdout",
     "output_type": "stream",
     "text": [
      "+--------------------+----------+-----+\n",
      "|               image|prediction|label|\n",
      "+--------------------+----------+-----+\n",
      "|[file:/Users/skru...|       1.0|    1|\n",
      "|[file:/Users/skru...|       0.0|    0|\n",
      "|[file:/Users/skru...|       0.0|    0|\n",
      "|[file:/Users/skru...|       1.0|    1|\n",
      "|[file:/Users/skru...|       2.0|    2|\n",
      "|[file:/Users/skru...|       0.0|    0|\n",
      "|[file:/Users/skru...|       2.0|    2|\n",
      "|[file:/Users/skru...|       2.0|    2|\n",
      "|[file:/Users/skru...|       0.0|    0|\n",
      "|[file:/Users/skru...|       1.0|    1|\n",
      "|[file:/Users/skru...|       1.0|    1|\n",
      "|[file:/Users/skru...|       0.0|    0|\n",
      "|[file:/Users/skru...|       1.0|    1|\n",
      "|[file:/Users/skru...|       0.0|    0|\n",
      "|[file:/Users/skru...|       1.0|    1|\n",
      "|[file:/Users/skru...|       0.0|    0|\n",
      "|[file:/Users/skru...|       1.0|    1|\n",
      "|[file:/Users/skru...|       0.0|    0|\n",
      "|[file:/Users/skru...|       0.0|    0|\n",
      "|[file:/Users/skru...|       0.0|    0|\n",
      "+--------------------+----------+-----+\n",
      "only showing top 20 rows\n",
      "\n"
     ]
    }
   ],
   "source": [
    "# all columns after transformations\n",
    "# print(tx_test.columns)\n",
    "# see some predicted output\n",
    "# tx_test = spark_model.transform(test)\n",
    "tx_test.select('image', \"prediction\", \"label\").show()"
   ]
  },
  {
   "cell_type": "code",
   "execution_count": null,
   "metadata": {},
   "outputs": [],
   "source": []
  }
 ],
 "metadata": {
  "kernelspec": {
   "display_name": "Python 2",
   "language": "python",
   "name": "python2"
  },
  "language_info": {
   "codemirror_mode": {
    "name": "ipython",
    "version": 2
   },
   "file_extension": ".py",
   "mimetype": "text/x-python",
   "name": "python",
   "nbconvert_exporter": "python",
   "pygments_lexer": "ipython2",
   "version": "2.7.16"
  }
 },
 "nbformat": 4,
 "nbformat_minor": 2
}
